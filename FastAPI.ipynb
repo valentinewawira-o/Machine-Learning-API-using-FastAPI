{
 "cells": [
  {
   "cell_type": "markdown",
   "metadata": {},
   "source": [
    "# Building Machine Learning APIs With FastAPI"
   ]
  },
  {
   "cell_type": "markdown",
   "metadata": {},
   "source": [
    "\n",
    "## Introduction\n",
    "In this project aims I will develop a machine learning model for predicting sepsis in patients where will;\n",
    "\n",
    "` - Develop a predictive model to identify patients at risk of developing sepsis.`\n",
    "`- Utilize machine learning techniques to analyze clinical data and extract patterns indicative of sepsis.`\n",
    "`- Provide healthcare professionals with a tool for early detection and intervention in sepsis cases.`\n",
    "\n",
    "#  Research Questions\n",
    "1. What is the distribution of Sepsis\n",
    "2. What is the distribution of Age\n",
    "3. How Many Patients have Insurance\n",
    "4. Is Blood Pressure Affected by Age\n",
    "5. How many patients in each BMI category have sepsis?\n",
    "6. How many of the patients fall under the Normal, Elevated and High Blood Pressure?\n",
    "\n",
    "\n",
    "`Sepsis is a life-threatening condition that arises when the body's response to an infection causes inflammation throughout the body.`\n",
    "`Early detection and timely intervention are critical for improving patient outcomes in sepsis cases.`\n",
    "\n",
    "## Success Metrics\n",
    "- Accuracy: The percentage of correctly predicted sepsis cases by the model.\n",
    "- Sensitivity and Specificity: Measures of the model's ability to correctly identify positive and negative sepsis cases, respectively.\n",
    "- Clinical Utility: Feedback from healthcare professionals on the practicality and effectiveness of the predictive model in real-world clinical settings.\n",
    "\n",
    "\n",
    "# Hypothesis\n",
    "\n",
    "## Hypothesis 1:\n",
    "\n",
    "* Null Hypothesis (H0): There is no significant relationship between a patient's age and the likelihood of developing sepsis.\n",
    "\n",
    "* Alternative Hypothesis (H1): The age of a patient is a significant factor that influences the likelihood of developing sepsis.\n",
    "\n",
    "## Hypothesis 2\n",
    "* Null Hypothesis (H0): There is no significant difference in the distribution of\n",
    "blood pressure (PR) values between patients who develop sepsis (Sepsis: Positive) and those who do not (Sepsis: Negative).\n",
    "\n",
    "* Alternative Hypothesis (H1): There is a significant difference in the distribution of blood pressure (PR) values between patients who develop sepsis (Sepsis: Positive) and those who do not (Sepsis: Negative)."
   ]
  },
  {
   "cell_type": "markdown",
   "metadata": {},
   "source": [
    "##  Importations"
   ]
  },
  {
   "cell_type": "code",
   "execution_count": 29,
   "metadata": {},
   "outputs": [],
   "source": [
    "# Importations\n",
    "import pandas as pd\n",
    "import numpy as np\n",
    "import os\n",
    "\n",
    "# Matplotlib\n",
    "import matplotlib.pyplot as plt\n",
    "\n",
    "# Seaborn\n",
    "import seaborn as sns\n",
    "\n",
    "# Hypothesis Testing\n",
    "from scipy import stats\n",
    "import statistics as stat\n",
    "\n",
    "# Import the label encoder from sklearn\n",
    "from sklearn.preprocessing import LabelEncoder\n",
    "\n",
    "#Importing SMOTE for data balancing\n",
    "from imblearn.over_sampling import SMOTE\n",
    "\n",
    "# Splitting the data\n",
    "from sklearn.model_selection import train_test_split\n",
    "\n",
    "# Scaling\n",
    "from sklearn.preprocessing import StandardScaler\n",
    "\n",
    "# Hyperparameter Tuning\n",
    "from sklearn.model_selection import GridSearchCV\n",
    "\n",
    "\n",
    "# Modelling\n",
    "from xgboost import XGBClassifier\n",
    "from sklearn.ensemble import RandomForestClassifier\n",
    "from sklearn.metrics import *\n",
    "from sklearn.linear_model import LogisticRegression\n",
    "from sklearn.ensemble import RandomForestClassifier, GradientBoostingClassifier\n",
    "from sklearn.svm import SVC\n",
    "from sklearn.naive_bayes import GaussianNB\n",
    "from sklearn.neighbors import KNeighborsClassifier\n",
    "from sklearn.tree import DecisionTreeClassifier\n",
    "from xgboost import XGBClassifier\n",
    "from lightgbm import LGBMClassifier\n",
    "\n",
    "#Model Evaluation\n",
    "from sklearn.metrics import accuracy_score, precision_score, recall_score, f1_score, roc_auc_score\n",
    "\n",
    "# Exporting the Model\n",
    "import pickle"
   ]
  },
  {
   "cell_type": "code",
   "execution_count": 30,
   "metadata": {},
   "outputs": [],
   "source": [
    "# Load the dataset\n",
    "current_dir = os.getcwd()\n",
    "train_data_path = os.path.join(current_dir, 'archive', 'Paitients_Files_Train.csv')\n",
    "test_data_path = os.path.join(current_dir, 'archive', 'Paitients_Files_Test.csv')\n",
    "\n",
    "train_data = pd.read_csv(train_data_path)\n",
    "test_data = pd.read_csv(test_data_path)"
   ]
  },
  {
   "cell_type": "code",
   "execution_count": 31,
   "metadata": {},
   "outputs": [
    {
     "data": {
      "text/plain": [
       "((599, 11), (169, 10))"
      ]
     },
     "execution_count": 31,
     "metadata": {},
     "output_type": "execute_result"
    }
   ],
   "source": [
    "train_data.shape,test_data.shape"
   ]
  },
  {
   "cell_type": "code",
   "execution_count": 32,
   "metadata": {},
   "outputs": [
    {
     "data": {
      "text/html": [
       "<div>\n",
       "<style scoped>\n",
       "    .dataframe tbody tr th:only-of-type {\n",
       "        vertical-align: middle;\n",
       "    }\n",
       "\n",
       "    .dataframe tbody tr th {\n",
       "        vertical-align: top;\n",
       "    }\n",
       "\n",
       "    .dataframe thead th {\n",
       "        text-align: right;\n",
       "    }\n",
       "</style>\n",
       "<table border=\"1\" class=\"dataframe\">\n",
       "  <thead>\n",
       "    <tr style=\"text-align: right;\">\n",
       "      <th></th>\n",
       "      <th>count</th>\n",
       "      <th>mean</th>\n",
       "      <th>std</th>\n",
       "      <th>min</th>\n",
       "      <th>25%</th>\n",
       "      <th>50%</th>\n",
       "      <th>75%</th>\n",
       "      <th>max</th>\n",
       "    </tr>\n",
       "  </thead>\n",
       "  <tbody>\n",
       "    <tr>\n",
       "      <th>PRG</th>\n",
       "      <td>599.0</td>\n",
       "      <td>3.824708</td>\n",
       "      <td>3.362839</td>\n",
       "      <td>0.000</td>\n",
       "      <td>1.000</td>\n",
       "      <td>3.000</td>\n",
       "      <td>6.000</td>\n",
       "      <td>17.00</td>\n",
       "    </tr>\n",
       "    <tr>\n",
       "      <th>PL</th>\n",
       "      <td>599.0</td>\n",
       "      <td>120.153589</td>\n",
       "      <td>32.682364</td>\n",
       "      <td>0.000</td>\n",
       "      <td>99.000</td>\n",
       "      <td>116.000</td>\n",
       "      <td>140.000</td>\n",
       "      <td>198.00</td>\n",
       "    </tr>\n",
       "    <tr>\n",
       "      <th>PR</th>\n",
       "      <td>599.0</td>\n",
       "      <td>68.732888</td>\n",
       "      <td>19.335675</td>\n",
       "      <td>0.000</td>\n",
       "      <td>64.000</td>\n",
       "      <td>70.000</td>\n",
       "      <td>80.000</td>\n",
       "      <td>122.00</td>\n",
       "    </tr>\n",
       "    <tr>\n",
       "      <th>SK</th>\n",
       "      <td>599.0</td>\n",
       "      <td>20.562604</td>\n",
       "      <td>16.017622</td>\n",
       "      <td>0.000</td>\n",
       "      <td>0.000</td>\n",
       "      <td>23.000</td>\n",
       "      <td>32.000</td>\n",
       "      <td>99.00</td>\n",
       "    </tr>\n",
       "    <tr>\n",
       "      <th>TS</th>\n",
       "      <td>599.0</td>\n",
       "      <td>79.460768</td>\n",
       "      <td>116.576176</td>\n",
       "      <td>0.000</td>\n",
       "      <td>0.000</td>\n",
       "      <td>36.000</td>\n",
       "      <td>123.500</td>\n",
       "      <td>846.00</td>\n",
       "    </tr>\n",
       "    <tr>\n",
       "      <th>M11</th>\n",
       "      <td>599.0</td>\n",
       "      <td>31.920033</td>\n",
       "      <td>8.008227</td>\n",
       "      <td>0.000</td>\n",
       "      <td>27.100</td>\n",
       "      <td>32.000</td>\n",
       "      <td>36.550</td>\n",
       "      <td>67.10</td>\n",
       "    </tr>\n",
       "    <tr>\n",
       "      <th>BD2</th>\n",
       "      <td>599.0</td>\n",
       "      <td>0.481187</td>\n",
       "      <td>0.337552</td>\n",
       "      <td>0.078</td>\n",
       "      <td>0.248</td>\n",
       "      <td>0.383</td>\n",
       "      <td>0.647</td>\n",
       "      <td>2.42</td>\n",
       "    </tr>\n",
       "    <tr>\n",
       "      <th>Age</th>\n",
       "      <td>599.0</td>\n",
       "      <td>33.290484</td>\n",
       "      <td>11.828446</td>\n",
       "      <td>21.000</td>\n",
       "      <td>24.000</td>\n",
       "      <td>29.000</td>\n",
       "      <td>40.000</td>\n",
       "      <td>81.00</td>\n",
       "    </tr>\n",
       "    <tr>\n",
       "      <th>Insurance</th>\n",
       "      <td>599.0</td>\n",
       "      <td>0.686144</td>\n",
       "      <td>0.464447</td>\n",
       "      <td>0.000</td>\n",
       "      <td>0.000</td>\n",
       "      <td>1.000</td>\n",
       "      <td>1.000</td>\n",
       "      <td>1.00</td>\n",
       "    </tr>\n",
       "  </tbody>\n",
       "</table>\n",
       "</div>"
      ],
      "text/plain": [
       "           count        mean         std     min     25%      50%      75%  \\\n",
       "PRG        599.0    3.824708    3.362839   0.000   1.000    3.000    6.000   \n",
       "PL         599.0  120.153589   32.682364   0.000  99.000  116.000  140.000   \n",
       "PR         599.0   68.732888   19.335675   0.000  64.000   70.000   80.000   \n",
       "SK         599.0   20.562604   16.017622   0.000   0.000   23.000   32.000   \n",
       "TS         599.0   79.460768  116.576176   0.000   0.000   36.000  123.500   \n",
       "M11        599.0   31.920033    8.008227   0.000  27.100   32.000   36.550   \n",
       "BD2        599.0    0.481187    0.337552   0.078   0.248    0.383    0.647   \n",
       "Age        599.0   33.290484   11.828446  21.000  24.000   29.000   40.000   \n",
       "Insurance  599.0    0.686144    0.464447   0.000   0.000    1.000    1.000   \n",
       "\n",
       "              max  \n",
       "PRG         17.00  \n",
       "PL         198.00  \n",
       "PR         122.00  \n",
       "SK          99.00  \n",
       "TS         846.00  \n",
       "M11         67.10  \n",
       "BD2          2.42  \n",
       "Age         81.00  \n",
       "Insurance    1.00  "
      ]
     },
     "execution_count": 32,
     "metadata": {},
     "output_type": "execute_result"
    }
   ],
   "source": [
    "# Descriptive statistics of the train dataset\n",
    "train_data.describe().T"
   ]
  },
  {
   "cell_type": "code",
   "execution_count": 33,
   "metadata": {},
   "outputs": [
    {
     "data": {
      "text/html": [
       "<div>\n",
       "<style scoped>\n",
       "    .dataframe tbody tr th:only-of-type {\n",
       "        vertical-align: middle;\n",
       "    }\n",
       "\n",
       "    .dataframe tbody tr th {\n",
       "        vertical-align: top;\n",
       "    }\n",
       "\n",
       "    .dataframe thead th {\n",
       "        text-align: right;\n",
       "    }\n",
       "</style>\n",
       "<table border=\"1\" class=\"dataframe\">\n",
       "  <thead>\n",
       "    <tr style=\"text-align: right;\">\n",
       "      <th></th>\n",
       "      <th>count</th>\n",
       "      <th>mean</th>\n",
       "      <th>std</th>\n",
       "      <th>min</th>\n",
       "      <th>25%</th>\n",
       "      <th>50%</th>\n",
       "      <th>75%</th>\n",
       "      <th>max</th>\n",
       "    </tr>\n",
       "  </thead>\n",
       "  <tbody>\n",
       "    <tr>\n",
       "      <th>PRG</th>\n",
       "      <td>169.0</td>\n",
       "      <td>3.917160</td>\n",
       "      <td>3.402415</td>\n",
       "      <td>0.0</td>\n",
       "      <td>1.000</td>\n",
       "      <td>3.000</td>\n",
       "      <td>6.000</td>\n",
       "      <td>13.000</td>\n",
       "    </tr>\n",
       "    <tr>\n",
       "      <th>PL</th>\n",
       "      <td>169.0</td>\n",
       "      <td>123.520710</td>\n",
       "      <td>29.259123</td>\n",
       "      <td>56.0</td>\n",
       "      <td>102.000</td>\n",
       "      <td>120.000</td>\n",
       "      <td>141.000</td>\n",
       "      <td>199.000</td>\n",
       "    </tr>\n",
       "    <tr>\n",
       "      <th>PR</th>\n",
       "      <td>169.0</td>\n",
       "      <td>70.426036</td>\n",
       "      <td>19.426805</td>\n",
       "      <td>0.0</td>\n",
       "      <td>62.000</td>\n",
       "      <td>74.000</td>\n",
       "      <td>80.000</td>\n",
       "      <td>114.000</td>\n",
       "    </tr>\n",
       "    <tr>\n",
       "      <th>SK</th>\n",
       "      <td>169.0</td>\n",
       "      <td>20.443787</td>\n",
       "      <td>15.764962</td>\n",
       "      <td>0.0</td>\n",
       "      <td>0.000</td>\n",
       "      <td>23.000</td>\n",
       "      <td>32.000</td>\n",
       "      <td>49.000</td>\n",
       "    </tr>\n",
       "    <tr>\n",
       "      <th>TS</th>\n",
       "      <td>169.0</td>\n",
       "      <td>81.000000</td>\n",
       "      <td>110.720852</td>\n",
       "      <td>0.0</td>\n",
       "      <td>0.000</td>\n",
       "      <td>0.000</td>\n",
       "      <td>135.000</td>\n",
       "      <td>540.000</td>\n",
       "    </tr>\n",
       "    <tr>\n",
       "      <th>M11</th>\n",
       "      <td>169.0</td>\n",
       "      <td>32.249704</td>\n",
       "      <td>7.444886</td>\n",
       "      <td>0.0</td>\n",
       "      <td>27.600</td>\n",
       "      <td>32.400</td>\n",
       "      <td>36.600</td>\n",
       "      <td>57.300</td>\n",
       "    </tr>\n",
       "    <tr>\n",
       "      <th>BD2</th>\n",
       "      <td>169.0</td>\n",
       "      <td>0.438876</td>\n",
       "      <td>0.306935</td>\n",
       "      <td>0.1</td>\n",
       "      <td>0.223</td>\n",
       "      <td>0.343</td>\n",
       "      <td>0.587</td>\n",
       "      <td>1.698</td>\n",
       "    </tr>\n",
       "    <tr>\n",
       "      <th>Age</th>\n",
       "      <td>169.0</td>\n",
       "      <td>33.065089</td>\n",
       "      <td>11.548110</td>\n",
       "      <td>21.0</td>\n",
       "      <td>24.000</td>\n",
       "      <td>28.000</td>\n",
       "      <td>42.000</td>\n",
       "      <td>70.000</td>\n",
       "    </tr>\n",
       "    <tr>\n",
       "      <th>Insurance</th>\n",
       "      <td>169.0</td>\n",
       "      <td>0.727811</td>\n",
       "      <td>0.446410</td>\n",
       "      <td>0.0</td>\n",
       "      <td>0.000</td>\n",
       "      <td>1.000</td>\n",
       "      <td>1.000</td>\n",
       "      <td>1.000</td>\n",
       "    </tr>\n",
       "  </tbody>\n",
       "</table>\n",
       "</div>"
      ],
      "text/plain": [
       "           count        mean         std   min      25%      50%      75%  \\\n",
       "PRG        169.0    3.917160    3.402415   0.0    1.000    3.000    6.000   \n",
       "PL         169.0  123.520710   29.259123  56.0  102.000  120.000  141.000   \n",
       "PR         169.0   70.426036   19.426805   0.0   62.000   74.000   80.000   \n",
       "SK         169.0   20.443787   15.764962   0.0    0.000   23.000   32.000   \n",
       "TS         169.0   81.000000  110.720852   0.0    0.000    0.000  135.000   \n",
       "M11        169.0   32.249704    7.444886   0.0   27.600   32.400   36.600   \n",
       "BD2        169.0    0.438876    0.306935   0.1    0.223    0.343    0.587   \n",
       "Age        169.0   33.065089   11.548110  21.0   24.000   28.000   42.000   \n",
       "Insurance  169.0    0.727811    0.446410   0.0    0.000    1.000    1.000   \n",
       "\n",
       "               max  \n",
       "PRG         13.000  \n",
       "PL         199.000  \n",
       "PR         114.000  \n",
       "SK          49.000  \n",
       "TS         540.000  \n",
       "M11         57.300  \n",
       "BD2          1.698  \n",
       "Age         70.000  \n",
       "Insurance    1.000  "
      ]
     },
     "execution_count": 33,
     "metadata": {},
     "output_type": "execute_result"
    }
   ],
   "source": [
    "test_data.describe().T\n"
   ]
  },
  {
   "cell_type": "code",
   "execution_count": 34,
   "metadata": {},
   "outputs": [
    {
     "data": {
      "text/plain": [
       "ID           0\n",
       "PRG          0\n",
       "PL           0\n",
       "PR           0\n",
       "SK           0\n",
       "TS           0\n",
       "M11          0\n",
       "BD2          0\n",
       "Age          0\n",
       "Insurance    0\n",
       "Sepssis      0\n",
       "dtype: int64"
      ]
     },
     "execution_count": 34,
     "metadata": {},
     "output_type": "execute_result"
    }
   ],
   "source": [
    "#Checking for Missing Values\n",
    "train_data.isna().sum()"
   ]
  },
  {
   "cell_type": "code",
   "execution_count": 35,
   "metadata": {},
   "outputs": [
    {
     "data": {
      "text/plain": [
       "ID           0\n",
       "PRG          0\n",
       "PL           0\n",
       "PR           0\n",
       "SK           0\n",
       "TS           0\n",
       "M11          0\n",
       "BD2          0\n",
       "Age          0\n",
       "Insurance    0\n",
       "dtype: int64"
      ]
     },
     "execution_count": 35,
     "metadata": {},
     "output_type": "execute_result"
    }
   ],
   "source": [
    "#Checking test dataset for Missing Values\n",
    "test_data.isna().sum()\n"
   ]
  },
  {
   "cell_type": "code",
   "execution_count": 36,
   "metadata": {},
   "outputs": [
    {
     "data": {
      "text/plain": [
       "Sepssis\n",
       "Negative    391\n",
       "Positive    208\n",
       "Name: count, dtype: int64"
      ]
     },
     "execution_count": 36,
     "metadata": {},
     "output_type": "execute_result"
    }
   ],
   "source": [
    "# Categorize the Sepssis column\n",
    "train_data['Sepssis'].value_counts()"
   ]
  },
  {
   "cell_type": "markdown",
   "metadata": {},
   "source": [
    "EDA\n",
    "\n",
    "Univariate analysis"
   ]
  },
  {
   "cell_type": "code",
   "execution_count": 37,
   "metadata": {},
   "outputs": [
    {
     "data": {
      "image/png": "[encoded data removed]",
      "text/plain": [
       "<Figure size 640x480 with 1 Axes>"
      ]
     },
     "metadata": {},
     "output_type": "display_data"
    }
   ],
   "source": [
    "# Distribution of Sepssis\n",
    "sns.countplot(x='Sepssis',data=train_data)\n",
    "\n",
    "plt.show()"
   ]
  },
  {
   "cell_type": "markdown",
   "metadata": {},
   "source": [
    "b. Age distribution in the dataset"
   ]
  },
  {
   "cell_type": "code",
   "execution_count": 38,
   "metadata": {},
   "outputs": [
    {
     "data": {
      "image/png": "[encoded data removed]",
      "text/plain": [
       "<Figure size 700x500 with 1 Axes>"
      ]
     },
     "metadata": {},
     "output_type": "display_data"
    },
    {
     "name": "stdout",
     "output_type": "stream",
     "text": [
      "Mean Age: 33.29\n",
      "Mean Age: 33.29\n",
      "Minimum Age: 21\n",
      "Maximum Age: 81\n"
     ]
    }
   ],
   "source": [
    "\n",
    "\n",
    "plt.figure(figsize=(7,5))\n",
    "plt.hist(train_data['Age'],bins=7,range = (20,90),edgecolor='k',alpha=0.7)\n",
    "plt.title(\"Patinet's age distribution\")\n",
    "plt.xlabel(\"Age\")\n",
    "plt.ylabel(\"Frequency\")\n",
    "plt.show()\n",
    "\n",
    "# summary statistics\n",
    "mean_age = train_data['Age'].mean()\n",
    "print(f\"Mean Age: {mean_age:.2f}\")\n",
    "\n",
    "median_age = train_data['Age'].median()\n",
    "print(f\"Mean Age: {mean_age:.2f}\")\n",
    "\n",
    "min_age = train_data['Age'].min()\n",
    "print(f\"Minimum Age: {min_age}\")\n",
    "\n",
    "max_age = train_data['Age'].max()\n",
    "print(f\"Maximum Age: {max_age}\")"
   ]
  },
  {
   "cell_type": "code",
   "execution_count": 39,
   "metadata": {},
   "outputs": [
    {
     "data": {
      "image/png": "[encoded data removed]",
      "text/plain": [
       "<Figure size 640x480 with 1 Axes>"
      ]
     },
     "metadata": {},
     "output_type": "display_data"
    }
   ],
   "source": [
    "#Number o patients with insurance\n",
    "insurance_count = train_data['Insurance'].value_counts()\n",
    "labels = ['Insurance','No Insurance']\n",
    "plt.title('Distribution of Patients by Insurance')\n",
    "\n",
    "plt.pie(insurance_count,labels=labels,autopct='%1.1f%%', startangle=90)\n",
    "plt.show()"
   ]
  },
  {
   "cell_type": "markdown",
   "metadata": {},
   "source": [
    "D. impact o age on blood pressure"
   ]
  },
  {
   "cell_type": "code",
   "execution_count": 40,
   "metadata": {},
   "outputs": [
    {
     "data": {
      "image/png": "[encoded data removed]",
      "text/plain": [
       "<Figure size 800x700 with 1 Axes>"
      ]
     },
     "metadata": {},
     "output_type": "display_data"
    }
   ],
   "source": [
    "plt.figure(figsize=(8,7))\n",
    "plt.scatter(train_data['Age'],train_data['PR'],alpha=0.4)\n",
    "plt.xlabel('Age')\n",
    "plt.ylabel('Blood Pressure')\n",
    "plt.title(\"Scatter Plot of Age vs Blood Pressure\")\n",
    "plt.show()"
   ]
  },
  {
   "cell_type": "code",
   "execution_count": 41,
   "metadata": {},
   "outputs": [
    {
     "data": {
      "image/png": "[encoded data removed]",
      "text/plain": [
       "<Figure size 900x600 with 2 Axes>"
      ]
     },
     "metadata": {},
     "output_type": "display_data"
    }
   ],
   "source": [
    "# Calculate correlation matrix using Pearson method, considering only numeric data\n",
    "pearson_r = train_data.corr(method='pearson', numeric_only=True)\n",
    "\n",
    "# Set Seaborn theme\n",
    "sns.set_theme()\n",
    "\n",
    "# Create a figure and axes for the plot\n",
    "fig, ax = plt.subplots(figsize=(9, 6))\n",
    "\n",
    "# Plot the heatmap of the correlation matrix\n",
    "sns.heatmap(data=pearson_r, vmin=-1, vmax=1, annot=True, cmap='summer', ax=ax)\n",
    "\n",
    "# Show the plot\n",
    "plt.show()"
   ]
  },
  {
   "cell_type": "markdown",
   "metadata": {},
   "source": [
    "HYPOTHESIS TESTING"
   ]
  },
  {
   "cell_type": "code",
   "execution_count": 42,
   "metadata": {},
   "outputs": [],
   "source": [
    "# Filter the data for 'Negative' cases in the 'Sepssis' column\n",
    "negative_sepsis = train_data[train_data['Sepssis'] == 'Negative']"
   ]
  },
  {
   "cell_type": "code",
   "execution_count": 43,
   "metadata": {},
   "outputs": [],
   "source": [
    "# Filter the data for 'POSITIVE' cases in the 'Sepssis' column\n",
    "positive_sepsis = train_data[train_data['Sepssis'] == 'Positive']"
   ]
  },
  {
   "cell_type": "code",
   "execution_count": 44,
   "metadata": {},
   "outputs": [],
   "source": [
    "positive_sepsis_numeric = positive_sepsis.select_dtypes(include=['number'])\n",
    "negative_sepsis_numeric = negative_sepsis.select_dtypes(include=['number'])"
   ]
  },
  {
   "cell_type": "code",
   "execution_count": 45,
   "metadata": {},
   "outputs": [],
   "source": [
    "# Set significance level (alpha)\n",
    "alpha = 0.05\n",
    "\n",
    " # Perform a two-sample independent t-test\n",
    "t_stat, p_value = stats.ttest_ind(positive_sepsis_numeric, negative_sepsis_numeric, equal_var=False)"
   ]
  },
  {
   "cell_type": "code",
   "execution_count": 46,
   "metadata": {},
   "outputs": [
    {
     "name": "stdout",
     "output_type": "stream",
     "text": [
      "T-statistic: [ 4.8425339  11.6142648   1.41100511  1.75179916  3.26125478  8.34187613\n",
      "  4.20028627  5.39802884  1.558312  ], P-value: [1.92424714e-06 1.06769140e-26 1.59108577e-01 8.06562047e-02\n",
      " 1.22804192e-03 8.87089036e-16 3.39405578e-05 1.08595928e-07\n",
      " 1.19873197e-01]\n"
     ]
    }
   ],
   "source": [
    "# Perform a two-sample independent t-test with equal variance set to False\n",
    "t_stat, p_value = stats.ttest_ind(positive_sepsis_numeric, negative_sepsis_numeric, equal_var=False)\n",
    "\n",
    "# Print the results\n",
    "print(f\"T-statistic: {t_stat}, P-value: {p_value}\")"
   ]
  },
  {
   "cell_type": "code",
   "execution_count": 47,
   "metadata": {},
   "outputs": [
    {
     "name": "stdout",
     "output_type": "stream",
     "text": [
      "Reject the null hypothesis. There is a significant difference in age between patients with and without sepsis.\n"
     ]
    }
   ],
   "source": [
    "# Compare p-value to alpha to make a decision\n",
    "if (p_value < alpha).any():\n",
    "    print(\"Reject the null hypothesis. There is a significant difference in age between patients with and without sepsis.\")\n",
    "else:\n",
    "    print(\"Fail to reject the null hypothesis. There is no significant difference in age between patients with and without sepsis.\")\n"
   ]
  },
  {
   "cell_type": "code",
   "execution_count": 48,
   "metadata": {},
   "outputs": [
    {
     "name": "stderr",
     "output_type": "stream",
     "text": [
      "c:\\Users\\Admin\\AppData\\Local\\Programs\\Python\\Python311\\Lib\\site-packages\\seaborn\\_oldcore.py:1119: FutureWarning: use_inf_as_na option is deprecated and will be removed in a future version. Convert inf values to NaN before operating instead.\n",
      "  with pd.option_context('mode.use_inf_as_na', True):\n",
      "c:\\Users\\Admin\\AppData\\Local\\Programs\\Python\\Python311\\Lib\\site-packages\\seaborn\\_oldcore.py:1075: FutureWarning: When grouping with a length-1 list-like, you will need to pass a length-1 tuple to get_group in a future version of pandas. Pass `(name,)` instead of `name` to silence this warning.\n",
      "  data_subset = grouped_data.get_group(pd_key)\n",
      "c:\\Users\\Admin\\AppData\\Local\\Programs\\Python\\Python311\\Lib\\site-packages\\seaborn\\_oldcore.py:1075: FutureWarning: When grouping with a length-1 list-like, you will need to pass a length-1 tuple to get_group in a future version of pandas. Pass `(name,)` instead of `name` to silence this warning.\n",
      "  data_subset = grouped_data.get_group(pd_key)\n",
      "c:\\Users\\Admin\\AppData\\Local\\Programs\\Python\\Python311\\Lib\\site-packages\\seaborn\\_oldcore.py:1075: FutureWarning: When grouping with a length-1 list-like, you will need to pass a length-1 tuple to get_group in a future version of pandas. Pass `(name,)` instead of `name` to silence this warning.\n",
      "  data_subset = grouped_data.get_group(pd_key)\n",
      "c:\\Users\\Admin\\AppData\\Local\\Programs\\Python\\Python311\\Lib\\site-packages\\seaborn\\_oldcore.py:1075: FutureWarning: When grouping with a length-1 list-like, you will need to pass a length-1 tuple to get_group in a future version of pandas. Pass `(name,)` instead of `name` to silence this warning.\n",
      "  data_subset = grouped_data.get_group(pd_key)\n"
     ]
    },
    {
     "data": {
      "text/plain": [
       "<Axes: xlabel='Age', ylabel='Count'>"
      ]
     },
     "execution_count": 48,
     "metadata": {},
     "output_type": "execute_result"
    },
    {
     "data": {
      "image/png": "[encoded data removed]",
      "text/plain": [
       "<Figure size 640x480 with 1 Axes>"
      ]
     },
     "metadata": {},
     "output_type": "display_data"
    }
   ],
   "source": [
    "sns.histplot(data=train_data,x='Age',hue='Sepssis',kde=True)"
   ]
  },
  {
   "cell_type": "markdown",
   "metadata": {},
   "source": [
    "data preprocessing"
   ]
  },
  {
   "cell_type": "code",
   "execution_count": 49,
   "metadata": {},
   "outputs": [
    {
     "data": {
      "text/html": [
       "<div>\n",
       "<style scoped>\n",
       "    .dataframe tbody tr th:only-of-type {\n",
       "        vertical-align: middle;\n",
       "    }\n",
       "\n",
       "    .dataframe tbody tr th {\n",
       "        vertical-align: top;\n",
       "    }\n",
       "\n",
       "    .dataframe thead th {\n",
       "        text-align: right;\n",
       "    }\n",
       "</style>\n",
       "<table border=\"1\" class=\"dataframe\">\n",
       "  <thead>\n",
       "    <tr style=\"text-align: right;\">\n",
       "      <th></th>\n",
       "      <th>ID</th>\n",
       "      <th>PRG</th>\n",
       "      <th>PL</th>\n",
       "      <th>BP</th>\n",
       "      <th>SK</th>\n",
       "      <th>TS</th>\n",
       "      <th>BMI</th>\n",
       "      <th>BD2</th>\n",
       "      <th>Age</th>\n",
       "      <th>Insurance</th>\n",
       "      <th>Sepsis</th>\n",
       "    </tr>\n",
       "  </thead>\n",
       "  <tbody>\n",
       "    <tr>\n",
       "      <th>0</th>\n",
       "      <td>ICU200010</td>\n",
       "      <td>6</td>\n",
       "      <td>148</td>\n",
       "      <td>72</td>\n",
       "      <td>35</td>\n",
       "      <td>0</td>\n",
       "      <td>33.6</td>\n",
       "      <td>0.627</td>\n",
       "      <td>50</td>\n",
       "      <td>0</td>\n",
       "      <td>Positive</td>\n",
       "    </tr>\n",
       "    <tr>\n",
       "      <th>1</th>\n",
       "      <td>ICU200011</td>\n",
       "      <td>1</td>\n",
       "      <td>85</td>\n",
       "      <td>66</td>\n",
       "      <td>29</td>\n",
       "      <td>0</td>\n",
       "      <td>26.6</td>\n",
       "      <td>0.351</td>\n",
       "      <td>31</td>\n",
       "      <td>0</td>\n",
       "      <td>Negative</td>\n",
       "    </tr>\n",
       "    <tr>\n",
       "      <th>2</th>\n",
       "      <td>ICU200012</td>\n",
       "      <td>8</td>\n",
       "      <td>183</td>\n",
       "      <td>64</td>\n",
       "      <td>0</td>\n",
       "      <td>0</td>\n",
       "      <td>23.3</td>\n",
       "      <td>0.672</td>\n",
       "      <td>32</td>\n",
       "      <td>1</td>\n",
       "      <td>Positive</td>\n",
       "    </tr>\n",
       "    <tr>\n",
       "      <th>3</th>\n",
       "      <td>ICU200013</td>\n",
       "      <td>1</td>\n",
       "      <td>89</td>\n",
       "      <td>66</td>\n",
       "      <td>23</td>\n",
       "      <td>94</td>\n",
       "      <td>28.1</td>\n",
       "      <td>0.167</td>\n",
       "      <td>21</td>\n",
       "      <td>1</td>\n",
       "      <td>Negative</td>\n",
       "    </tr>\n",
       "    <tr>\n",
       "      <th>4</th>\n",
       "      <td>ICU200014</td>\n",
       "      <td>0</td>\n",
       "      <td>137</td>\n",
       "      <td>40</td>\n",
       "      <td>35</td>\n",
       "      <td>168</td>\n",
       "      <td>43.1</td>\n",
       "      <td>2.288</td>\n",
       "      <td>33</td>\n",
       "      <td>1</td>\n",
       "      <td>Positive</td>\n",
       "    </tr>\n",
       "  </tbody>\n",
       "</table>\n",
       "</div>"
      ],
      "text/plain": [
       "          ID  PRG   PL  BP  SK   TS   BMI    BD2  Age  Insurance    Sepsis\n",
       "0  ICU200010    6  148  72  35    0  33.6  0.627   50          0  Positive\n",
       "1  ICU200011    1   85  66  29    0  26.6  0.351   31          0  Negative\n",
       "2  ICU200012    8  183  64   0    0  23.3  0.672   32          1  Positive\n",
       "3  ICU200013    1   89  66  23   94  28.1  0.167   21          1  Negative\n",
       "4  ICU200014    0  137  40  35  168  43.1  2.288   33          1  Positive"
      ]
     },
     "execution_count": 49,
     "metadata": {},
     "output_type": "execute_result"
    }
   ],
   "source": [
    "#Renaming the seppsis, BMI and Blood pressure columns\n",
    "train_data = train_data.rename(columns={'Sepssis': 'Sepsis'})\n",
    "train_data = train_data.rename(columns={'M11': 'BMI'})\n",
    "train_data = train_data.rename(columns={'PR': 'BP'})\n",
    "\n",
    "# Test dataset\n",
    "test_data = test_data.rename(columns={'M11': 'BMI'})\n",
    "test_data = test_data.rename(columns={'PR': 'BP'})\n",
    "\n",
    "train_data.head()\n"
   ]
  },
  {
   "cell_type": "code",
   "execution_count": null,
   "metadata": {},
   "outputs": [],
   "source": []
  },
  {
   "cell_type": "code",
   "execution_count": 50,
   "metadata": {},
   "outputs": [
    {
     "name": "stdout",
     "output_type": "stream",
     "text": [
      "The categories in the Spesis column are: \n",
      "Sepsis\n",
      "Negative    391\n",
      "Positive    208\n",
      "Name: count, dtype: int64\n",
      "The categories in the Insurance column are: \n",
      "Insurance\n",
      "1    411\n",
      "0    188\n",
      "Name: count, dtype: int64\n",
      "The categories in the PRG column are: \n",
      "PRG\n",
      "1     100\n",
      "0      93\n",
      "2      76\n",
      "3      59\n",
      "4      54\n",
      "5      49\n",
      "7      37\n",
      "6      37\n",
      "8      32\n",
      "9      20\n",
      "10     16\n",
      "12      8\n",
      "11      7\n",
      "13      7\n",
      "14      2\n",
      "15      1\n",
      "17      1\n",
      "Name: count, dtype: int64\n"
     ]
    }
   ],
   "source": [
    "#The number each of the categories occurs\n",
    "print('The categories in the Spesis column are: ')\n",
    "print(train_data['Sepsis'].value_counts())\n",
    "#The number each of the Insurance Column\n",
    "print('The categories in the Insurance column are: ')\n",
    "print(train_data['Insurance'].value_counts())\n",
    "#The number each of the categories occurs\n",
    "print('The categories in the PRG column are: ')\n",
    "print(train_data['PRG'].value_counts())"
   ]
  },
  {
   "cell_type": "code",
   "execution_count": 51,
   "metadata": {},
   "outputs": [
    {
     "data": {
      "text/html": [
       "<div>\n",
       "<style scoped>\n",
       "    .dataframe tbody tr th:only-of-type {\n",
       "        vertical-align: middle;\n",
       "    }\n",
       "\n",
       "    .dataframe tbody tr th {\n",
       "        vertical-align: top;\n",
       "    }\n",
       "\n",
       "    .dataframe thead th {\n",
       "        text-align: right;\n",
       "    }\n",
       "</style>\n",
       "<table border=\"1\" class=\"dataframe\">\n",
       "  <thead>\n",
       "    <tr style=\"text-align: right;\">\n",
       "      <th></th>\n",
       "      <th>ID</th>\n",
       "      <th>PRG</th>\n",
       "      <th>PL</th>\n",
       "      <th>BP</th>\n",
       "      <th>SK</th>\n",
       "      <th>TS</th>\n",
       "      <th>BMI</th>\n",
       "      <th>BD2</th>\n",
       "      <th>Age</th>\n",
       "      <th>Insurance</th>\n",
       "    </tr>\n",
       "  </thead>\n",
       "  <tbody>\n",
       "    <tr>\n",
       "      <th>0</th>\n",
       "      <td>ICU200609</td>\n",
       "      <td>1</td>\n",
       "      <td>109</td>\n",
       "      <td>38</td>\n",
       "      <td>18</td>\n",
       "      <td>120</td>\n",
       "      <td>23.1</td>\n",
       "      <td>0.407</td>\n",
       "      <td>26</td>\n",
       "      <td>1</td>\n",
       "    </tr>\n",
       "    <tr>\n",
       "      <th>1</th>\n",
       "      <td>ICU200610</td>\n",
       "      <td>1</td>\n",
       "      <td>108</td>\n",
       "      <td>88</td>\n",
       "      <td>19</td>\n",
       "      <td>0</td>\n",
       "      <td>27.1</td>\n",
       "      <td>0.400</td>\n",
       "      <td>24</td>\n",
       "      <td>1</td>\n",
       "    </tr>\n",
       "    <tr>\n",
       "      <th>2</th>\n",
       "      <td>ICU200611</td>\n",
       "      <td>6</td>\n",
       "      <td>96</td>\n",
       "      <td>0</td>\n",
       "      <td>0</td>\n",
       "      <td>0</td>\n",
       "      <td>23.7</td>\n",
       "      <td>0.190</td>\n",
       "      <td>28</td>\n",
       "      <td>1</td>\n",
       "    </tr>\n",
       "    <tr>\n",
       "      <th>3</th>\n",
       "      <td>ICU200612</td>\n",
       "      <td>1</td>\n",
       "      <td>124</td>\n",
       "      <td>74</td>\n",
       "      <td>36</td>\n",
       "      <td>0</td>\n",
       "      <td>27.8</td>\n",
       "      <td>0.100</td>\n",
       "      <td>30</td>\n",
       "      <td>1</td>\n",
       "    </tr>\n",
       "    <tr>\n",
       "      <th>4</th>\n",
       "      <td>ICU200613</td>\n",
       "      <td>7</td>\n",
       "      <td>150</td>\n",
       "      <td>78</td>\n",
       "      <td>29</td>\n",
       "      <td>126</td>\n",
       "      <td>35.2</td>\n",
       "      <td>0.692</td>\n",
       "      <td>54</td>\n",
       "      <td>0</td>\n",
       "    </tr>\n",
       "  </tbody>\n",
       "</table>\n",
       "</div>"
      ],
      "text/plain": [
       "          ID  PRG   PL  BP  SK   TS   BMI    BD2  Age  Insurance\n",
       "0  ICU200609    1  109  38  18  120  23.1  0.407   26          1\n",
       "1  ICU200610    1  108  88  19    0  27.1  0.400   24          1\n",
       "2  ICU200611    6   96   0   0    0  23.7  0.190   28          1\n",
       "3  ICU200612    1  124  74  36    0  27.8  0.100   30          1\n",
       "4  ICU200613    7  150  78  29  126  35.2  0.692   54          0"
      ]
     },
     "execution_count": 51,
     "metadata": {},
     "output_type": "execute_result"
    }
   ],
   "source": [
    "test_data.head()\n",
    "\n"
   ]
  },
  {
   "cell_type": "markdown",
   "metadata": {},
   "source": [
    "## Feature Encoding"
   ]
  },
  {
   "cell_type": "code",
   "execution_count": 52,
   "metadata": {},
   "outputs": [],
   "source": [
    "# Initializing class Label Encoder\n",
    "label_encoder = LabelEncoder()\n",
    "# Encoding the target column\n",
    "train_data['Sepsis'] = label_encoder.fit_transform(train_data['Sepsis'])"
   ]
  },
  {
   "cell_type": "code",
   "execution_count": 53,
   "metadata": {},
   "outputs": [],
   "source": [
    "# Splitting the dataset into features (X) and target variable (y)\n",
    "X = train_data.drop('Sepsis', axis=1)\n",
    "y = train_data['Sepsis']"
   ]
  },
  {
   "cell_type": "code",
   "execution_count": 55,
   "metadata": {},
   "outputs": [
    {
     "name": "stdout",
     "output_type": "stream",
     "text": [
      "Sepsis\n",
      "1    391\n",
      "0    391\n",
      "Name: count, dtype: int64\n"
     ]
    }
   ],
   "source": [
    "# Instantiate LabelEncoder\n",
    "label_encoder = LabelEncoder()\n",
    "\n",
    "# Encode categorical variables in X\n",
    "X_encoded = X.apply(label_encoder.fit_transform)\n",
    "\n",
    "# Ensure y is numeric (if needed)\n",
    "# Assuming y is already encoded or numeric, no preprocessing needed for y\n",
    "\n",
    "# Re-run SMOTE with preprocessed data\n",
    "smote = SMOTE(sampling_strategy='minority')\n",
    "X_resampled, y_resampled = smote.fit_resample(X_encoded, y)\n",
    "\n",
    "# Check value counts of y_resampled\n",
    "print(y_resampled.value_counts())"
   ]
  },
  {
   "cell_type": "markdown",
   "metadata": {},
   "source": [
    "data splitting"
   ]
  },
  {
   "cell_type": "code",
   "execution_count": 56,
   "metadata": {},
   "outputs": [],
   "source": [
    "# Split the data into training and evaluation sets\n",
    "X_train, X_eval, y_train, y_eval = train_test_split(X_resampled, y_resampled, test_size=0.2, random_state=42,stratify=y_resampled)"
   ]
  },
  {
   "cell_type": "code",
   "execution_count": 57,
   "metadata": {},
   "outputs": [
    {
     "data": {
      "text/plain": [
       "((625, 10), (157, 10), (625,), (157,))"
      ]
     },
     "execution_count": 57,
     "metadata": {},
     "output_type": "execute_result"
    }
   ],
   "source": [
    "X_train.shape,X_eval.shape,y_train.shape,y_eval.shape"
   ]
  },
  {
   "cell_type": "code",
   "execution_count": 58,
   "metadata": {},
   "outputs": [],
   "source": [
    "#Cloning the standardscaler class\n",
    "scaler =StandardScaler().set_output(transform=\"pandas\")\n",
    "\n",
    "#Fitting and transforming the selected columns in the training data set\n",
    "X_train_scaled=scaler.fit_transform(X_train)\n",
    "\n",
    "#Transforming the selected columns  in the evaluation dataset\n",
    "X_eval_scaled= scaler.transform(X_eval)"
   ]
  },
  {
   "cell_type": "code",
   "execution_count": 59,
   "metadata": {},
   "outputs": [
    {
     "data": {
      "text/html": [
       "<div>\n",
       "<style scoped>\n",
       "    .dataframe tbody tr th:only-of-type {\n",
       "        vertical-align: middle;\n",
       "    }\n",
       "\n",
       "    .dataframe tbody tr th {\n",
       "        vertical-align: top;\n",
       "    }\n",
       "\n",
       "    .dataframe thead th {\n",
       "        text-align: right;\n",
       "    }\n",
       "</style>\n",
       "<table border=\"1\" class=\"dataframe\">\n",
       "  <thead>\n",
       "    <tr style=\"text-align: right;\">\n",
       "      <th></th>\n",
       "      <th>ID</th>\n",
       "      <th>PRG</th>\n",
       "      <th>PL</th>\n",
       "      <th>BP</th>\n",
       "      <th>SK</th>\n",
       "      <th>TS</th>\n",
       "      <th>BMI</th>\n",
       "      <th>BD2</th>\n",
       "      <th>Age</th>\n",
       "      <th>Insurance</th>\n",
       "    </tr>\n",
       "  </thead>\n",
       "  <tbody>\n",
       "    <tr>\n",
       "      <th>547</th>\n",
       "      <td>1.429498</td>\n",
       "      <td>0.061900</td>\n",
       "      <td>0.219461</td>\n",
       "      <td>-0.146950</td>\n",
       "      <td>-0.160059</td>\n",
       "      <td>1.071925</td>\n",
       "      <td>0.022497</td>\n",
       "      <td>-1.446037</td>\n",
       "      <td>-0.521035</td>\n",
       "      <td>0.716462</td>\n",
       "    </tr>\n",
       "    <tr>\n",
       "      <th>474</th>\n",
       "      <td>1.013129</td>\n",
       "      <td>0.061900</td>\n",
       "      <td>-0.347880</td>\n",
       "      <td>-0.512861</td>\n",
       "      <td>-1.247416</td>\n",
       "      <td>-0.846002</td>\n",
       "      <td>-0.589630</td>\n",
       "      <td>-1.626505</td>\n",
       "      <td>-0.880866</td>\n",
       "      <td>0.716462</td>\n",
       "    </tr>\n",
       "    <tr>\n",
       "      <th>707</th>\n",
       "      <td>-1.467973</td>\n",
       "      <td>0.366524</td>\n",
       "      <td>1.721244</td>\n",
       "      <td>0.584872</td>\n",
       "      <td>0.538956</td>\n",
       "      <td>2.243991</td>\n",
       "      <td>-0.067521</td>\n",
       "      <td>0.046922</td>\n",
       "      <td>2.177698</td>\n",
       "      <td>0.716462</td>\n",
       "    </tr>\n",
       "    <tr>\n",
       "      <th>293</th>\n",
       "      <td>-0.019237</td>\n",
       "      <td>-0.851974</td>\n",
       "      <td>0.119342</td>\n",
       "      <td>-1.732565</td>\n",
       "      <td>1.703981</td>\n",
       "      <td>1.412890</td>\n",
       "      <td>1.264756</td>\n",
       "      <td>0.670355</td>\n",
       "      <td>-0.880866</td>\n",
       "      <td>0.716462</td>\n",
       "    </tr>\n",
       "    <tr>\n",
       "      <th>729</th>\n",
       "      <td>1.686164</td>\n",
       "      <td>-1.156599</td>\n",
       "      <td>1.921482</td>\n",
       "      <td>0.828813</td>\n",
       "      <td>-0.703737</td>\n",
       "      <td>1.263718</td>\n",
       "      <td>-0.175544</td>\n",
       "      <td>0.883635</td>\n",
       "      <td>-1.060782</td>\n",
       "      <td>0.716462</td>\n",
       "    </tr>\n",
       "  </tbody>\n",
       "</table>\n",
       "</div>"
      ],
      "text/plain": [
       "           ID       PRG        PL        BP        SK        TS       BMI  \\\n",
       "547  1.429498  0.061900  0.219461 -0.146950 -0.160059  1.071925  0.022497   \n",
       "474  1.013129  0.061900 -0.347880 -0.512861 -1.247416 -0.846002 -0.589630   \n",
       "707 -1.467973  0.366524  1.721244  0.584872  0.538956  2.243991 -0.067521   \n",
       "293 -0.019237 -0.851974  0.119342 -1.732565  1.703981  1.412890  1.264756   \n",
       "729  1.686164 -1.156599  1.921482  0.828813 -0.703737  1.263718 -0.175544   \n",
       "\n",
       "          BD2       Age  Insurance  \n",
       "547 -1.446037 -0.521035   0.716462  \n",
       "474 -1.626505 -0.880866   0.716462  \n",
       "707  0.046922  2.177698   0.716462  \n",
       "293  0.670355 -0.880866   0.716462  \n",
       "729  0.883635 -1.060782   0.716462  "
      ]
     },
     "execution_count": 59,
     "metadata": {},
     "output_type": "execute_result"
    }
   ],
   "source": [
    "#Checking on the scaled training set\n",
    "X_train_scaled.head()"
   ]
  },
  {
   "cell_type": "code",
   "execution_count": 60,
   "metadata": {},
   "outputs": [
    {
     "data": {
      "text/html": [
       "<div>\n",
       "<style scoped>\n",
       "    .dataframe tbody tr th:only-of-type {\n",
       "        vertical-align: middle;\n",
       "    }\n",
       "\n",
       "    .dataframe tbody tr th {\n",
       "        vertical-align: top;\n",
       "    }\n",
       "\n",
       "    .dataframe thead th {\n",
       "        text-align: right;\n",
       "    }\n",
       "</style>\n",
       "<table border=\"1\" class=\"dataframe\">\n",
       "  <thead>\n",
       "    <tr style=\"text-align: right;\">\n",
       "      <th></th>\n",
       "      <th>ID</th>\n",
       "      <th>PRG</th>\n",
       "      <th>PL</th>\n",
       "      <th>BP</th>\n",
       "      <th>SK</th>\n",
       "      <th>TS</th>\n",
       "      <th>BMI</th>\n",
       "      <th>BD2</th>\n",
       "      <th>Age</th>\n",
       "      <th>Insurance</th>\n",
       "    </tr>\n",
       "  </thead>\n",
       "  <tbody>\n",
       "    <tr>\n",
       "      <th>378</th>\n",
       "      <td>0.465576</td>\n",
       "      <td>0.061900</td>\n",
       "      <td>1.020412</td>\n",
       "      <td>0.340932</td>\n",
       "      <td>-1.247416</td>\n",
       "      <td>-0.846002</td>\n",
       "      <td>1.984905</td>\n",
       "      <td>-0.986665</td>\n",
       "      <td>-0.161204</td>\n",
       "      <td>-1.395748</td>\n",
       "    </tr>\n",
       "    <tr>\n",
       "      <th>309</th>\n",
       "      <td>0.072022</td>\n",
       "      <td>-0.547349</td>\n",
       "      <td>-0.014150</td>\n",
       "      <td>-0.146950</td>\n",
       "      <td>0.383619</td>\n",
       "      <td>1.476821</td>\n",
       "      <td>0.004494</td>\n",
       "      <td>1.359413</td>\n",
       "      <td>-0.341120</td>\n",
       "      <td>0.716462</td>\n",
       "    </tr>\n",
       "    <tr>\n",
       "      <th>668</th>\n",
       "      <td>1.383869</td>\n",
       "      <td>0.061900</td>\n",
       "      <td>-0.214388</td>\n",
       "      <td>0.950784</td>\n",
       "      <td>1.703981</td>\n",
       "      <td>1.157166</td>\n",
       "      <td>0.760651</td>\n",
       "      <td>1.252773</td>\n",
       "      <td>0.198627</td>\n",
       "      <td>-1.395748</td>\n",
       "    </tr>\n",
       "    <tr>\n",
       "      <th>112</th>\n",
       "      <td>-1.051604</td>\n",
       "      <td>-0.851974</td>\n",
       "      <td>-1.182204</td>\n",
       "      <td>0.462902</td>\n",
       "      <td>0.849629</td>\n",
       "      <td>-0.675519</td>\n",
       "      <td>-0.229555</td>\n",
       "      <td>-1.265570</td>\n",
       "      <td>-0.970824</td>\n",
       "      <td>0.716462</td>\n",
       "    </tr>\n",
       "    <tr>\n",
       "      <th>583</th>\n",
       "      <td>1.634831</td>\n",
       "      <td>1.280398</td>\n",
       "      <td>-0.815101</td>\n",
       "      <td>0.462902</td>\n",
       "      <td>-1.247416</td>\n",
       "      <td>-0.846002</td>\n",
       "      <td>0.994699</td>\n",
       "      <td>-1.281976</td>\n",
       "      <td>0.738373</td>\n",
       "      <td>0.716462</td>\n",
       "    </tr>\n",
       "  </tbody>\n",
       "</table>\n",
       "</div>"
      ],
      "text/plain": [
       "           ID       PRG        PL        BP        SK        TS       BMI  \\\n",
       "378  0.465576  0.061900  1.020412  0.340932 -1.247416 -0.846002  1.984905   \n",
       "309  0.072022 -0.547349 -0.014150 -0.146950  0.383619  1.476821  0.004494   \n",
       "668  1.383869  0.061900 -0.214388  0.950784  1.703981  1.157166  0.760651   \n",
       "112 -1.051604 -0.851974 -1.182204  0.462902  0.849629 -0.675519 -0.229555   \n",
       "583  1.634831  1.280398 -0.815101  0.462902 -1.247416 -0.846002  0.994699   \n",
       "\n",
       "          BD2       Age  Insurance  \n",
       "378 -0.986665 -0.161204  -1.395748  \n",
       "309  1.359413 -0.341120   0.716462  \n",
       "668  1.252773  0.198627  -1.395748  \n",
       "112 -1.265570 -0.970824   0.716462  \n",
       "583 -1.281976  0.738373   0.716462  "
      ]
     },
     "execution_count": 60,
     "metadata": {},
     "output_type": "execute_result"
    }
   ],
   "source": [
    "#To check on the scaled evaluation on the predictor set\n",
    "X_eval_scaled.head()"
   ]
  },
  {
   "cell_type": "markdown",
   "metadata": {},
   "source": []
  },
  {
   "cell_type": "code",
   "execution_count": 61,
   "metadata": {},
   "outputs": [
    {
     "name": "stdout",
     "output_type": "stream",
     "text": [
      "[LightGBM] [Info] Number of positive: 313, number of negative: 312\n",
      "[LightGBM] [Info] Auto-choosing row-wise multi-threading, the overhead of testing was 0.001743 seconds.\n",
      "You can set `force_row_wise=true` to remove the overhead.\n",
      "And if memory is not enough, you can set `force_col_wise=true`.\n",
      "[LightGBM] [Info] Total Bins 890\n",
      "[LightGBM] [Info] Number of data points in the train set: 625, number of used features: 10\n",
      "[LightGBM] [Info] [binary:BoostFromScore]: pavg=0.500800 -> initscore=0.003200\n",
      "[LightGBM] [Info] Start training from score 0.003200\n",
      "[LightGBM] [Warning] No further splits with positive gain, best gain: -inf\n",
      "[LightGBM] [Warning] No further splits with positive gain, best gain: -inf\n",
      "[LightGBM] [Warning] No further splits with positive gain, best gain: -inf\n",
      "[LightGBM] [Warning] No further splits with positive gain, best gain: -inf\n",
      "[LightGBM] [Warning] No further splits with positive gain, best gain: -inf\n",
      "[LightGBM] [Warning] No further splits with positive gain, best gain: -inf\n",
      "[LightGBM] [Warning] No further splits with positive gain, best gain: -inf\n",
      "[LightGBM] [Warning] No further splits with positive gain, best gain: -inf\n",
      "[LightGBM] [Warning] No further splits with positive gain, best gain: -inf\n",
      "[LightGBM] [Warning] No further splits with positive gain, best gain: -inf\n",
      "[LightGBM] [Warning] No further splits with positive gain, best gain: -inf\n",
      "[LightGBM] [Warning] No further splits with positive gain, best gain: -inf\n",
      "[LightGBM] [Warning] No further splits with positive gain, best gain: -inf\n",
      "[LightGBM] [Warning] No further splits with positive gain, best gain: -inf\n",
      "[LightGBM] [Warning] No further splits with positive gain, best gain: -inf\n",
      "[LightGBM] [Warning] No further splits with positive gain, best gain: -inf\n",
      "[LightGBM] [Warning] No further splits with positive gain, best gain: -inf\n",
      "[LightGBM] [Warning] No further splits with positive gain, best gain: -inf\n",
      "[LightGBM] [Warning] No further splits with positive gain, best gain: -inf\n",
      "[LightGBM] [Warning] No further splits with positive gain, best gain: -inf\n",
      "[LightGBM] [Warning] No further splits with positive gain, best gain: -inf\n",
      "[LightGBM] [Warning] No further splits with positive gain, best gain: -inf\n",
      "[LightGBM] [Warning] No further splits with positive gain, best gain: -inf\n",
      "[LightGBM] [Warning] No further splits with positive gain, best gain: -inf\n",
      "[LightGBM] [Warning] No further splits with positive gain, best gain: -inf\n",
      "[LightGBM] [Warning] No further splits with positive gain, best gain: -inf\n",
      "[LightGBM] [Warning] No further splits with positive gain, best gain: -inf\n",
      "[LightGBM] [Warning] No further splits with positive gain, best gain: -inf\n",
      "[LightGBM] [Warning] No further splits with positive gain, best gain: -inf\n",
      "[LightGBM] [Warning] No further splits with positive gain, best gain: -inf\n",
      "[LightGBM] [Warning] No further splits with positive gain, best gain: -inf\n",
      "[LightGBM] [Warning] No further splits with positive gain, best gain: -inf\n",
      "[LightGBM] [Warning] No further splits with positive gain, best gain: -inf\n",
      "[LightGBM] [Warning] No further splits with positive gain, best gain: -inf\n",
      "[LightGBM] [Warning] No further splits with positive gain, best gain: -inf\n",
      "[LightGBM] [Warning] No further splits with positive gain, best gain: -inf\n",
      "[LightGBM] [Warning] No further splits with positive gain, best gain: -inf\n",
      "[LightGBM] [Warning] No further splits with positive gain, best gain: -inf\n",
      "[LightGBM] [Warning] No further splits with positive gain, best gain: -inf\n",
      "[LightGBM] [Warning] No further splits with positive gain, best gain: -inf\n",
      "[LightGBM] [Warning] No further splits with positive gain, best gain: -inf\n",
      "[LightGBM] [Warning] No further splits with positive gain, best gain: -inf\n",
      "[LightGBM] [Warning] No further splits with positive gain, best gain: -inf\n",
      "[LightGBM] [Warning] No further splits with positive gain, best gain: -inf\n",
      "[LightGBM] [Warning] No further splits with positive gain, best gain: -inf\n",
      "[LightGBM] [Warning] No further splits with positive gain, best gain: -inf\n",
      "[LightGBM] [Warning] No further splits with positive gain, best gain: -inf\n",
      "[LightGBM] [Warning] No further splits with positive gain, best gain: -inf\n",
      "[LightGBM] [Warning] No further splits with positive gain, best gain: -inf\n",
      "[LightGBM] [Warning] No further splits with positive gain, best gain: -inf\n",
      "[LightGBM] [Warning] No further splits with positive gain, best gain: -inf\n",
      "[LightGBM] [Warning] No further splits with positive gain, best gain: -inf\n",
      "[LightGBM] [Warning] No further splits with positive gain, best gain: -inf\n",
      "[LightGBM] [Warning] No further splits with positive gain, best gain: -inf\n",
      "[LightGBM] [Warning] No further splits with positive gain, best gain: -inf\n",
      "[LightGBM] [Warning] No further splits with positive gain, best gain: -inf\n",
      "[LightGBM] [Warning] No further splits with positive gain, best gain: -inf\n",
      "[LightGBM] [Warning] No further splits with positive gain, best gain: -inf\n",
      "[LightGBM] [Warning] No further splits with positive gain, best gain: -inf\n",
      "[LightGBM] [Warning] No further splits with positive gain, best gain: -inf\n",
      "[LightGBM] [Warning] No further splits with positive gain, best gain: -inf\n",
      "[LightGBM] [Warning] No further splits with positive gain, best gain: -inf\n",
      "[LightGBM] [Warning] No further splits with positive gain, best gain: -inf\n",
      "[LightGBM] [Warning] No further splits with positive gain, best gain: -inf\n",
      "[LightGBM] [Warning] No further splits with positive gain, best gain: -inf\n",
      "[LightGBM] [Warning] No further splits with positive gain, best gain: -inf\n",
      "[LightGBM] [Warning] No further splits with positive gain, best gain: -inf\n",
      "[LightGBM] [Warning] No further splits with positive gain, best gain: -inf\n",
      "[LightGBM] [Warning] No further splits with positive gain, best gain: -inf\n",
      "[LightGBM] [Warning] No further splits with positive gain, best gain: -inf\n",
      "[LightGBM] [Warning] No further splits with positive gain, best gain: -inf\n",
      "[LightGBM] [Warning] No further splits with positive gain, best gain: -inf\n",
      "[LightGBM] [Warning] No further splits with positive gain, best gain: -inf\n",
      "[LightGBM] [Warning] No further splits with positive gain, best gain: -inf\n",
      "[LightGBM] [Warning] No further splits with positive gain, best gain: -inf\n",
      "[LightGBM] [Warning] No further splits with positive gain, best gain: -inf\n",
      "[LightGBM] [Warning] No further splits with positive gain, best gain: -inf\n",
      "[LightGBM] [Warning] No further splits with positive gain, best gain: -inf\n",
      "[LightGBM] [Warning] No further splits with positive gain, best gain: -inf\n",
      "[LightGBM] [Warning] No further splits with positive gain, best gain: -inf\n",
      "[LightGBM] [Warning] No further splits with positive gain, best gain: -inf\n",
      "[LightGBM] [Warning] No further splits with positive gain, best gain: -inf\n",
      "[LightGBM] [Warning] No further splits with positive gain, best gain: -inf\n",
      "[LightGBM] [Warning] No further splits with positive gain, best gain: -inf\n",
      "[LightGBM] [Warning] No further splits with positive gain, best gain: -inf\n",
      "[LightGBM] [Warning] No further splits with positive gain, best gain: -inf\n",
      "[LightGBM] [Warning] No further splits with positive gain, best gain: -inf\n",
      "[LightGBM] [Warning] No further splits with positive gain, best gain: -inf\n",
      "[LightGBM] [Warning] No further splits with positive gain, best gain: -inf\n",
      "[LightGBM] [Warning] No further splits with positive gain, best gain: -inf\n",
      "[LightGBM] [Warning] No further splits with positive gain, best gain: -inf\n",
      "[LightGBM] [Warning] No further splits with positive gain, best gain: -inf\n",
      "[LightGBM] [Warning] No further splits with positive gain, best gain: -inf\n",
      "[LightGBM] [Warning] No further splits with positive gain, best gain: -inf\n",
      "[LightGBM] [Warning] No further splits with positive gain, best gain: -inf\n",
      "[LightGBM] [Warning] No further splits with positive gain, best gain: -inf\n",
      "[LightGBM] [Warning] No further splits with positive gain, best gain: -inf\n",
      "[LightGBM] [Warning] No further splits with positive gain, best gain: -inf\n",
      "[LightGBM] [Warning] No further splits with positive gain, best gain: -inf\n",
      "[LightGBM] [Warning] No further splits with positive gain, best gain: -inf\n"
     ]
    }
   ],
   "source": [
    "# Defining a list of models that will be evaluated\n",
    "models = [\n",
    "    ('Logistic Regression', LogisticRegression(random_state=42)),\n",
    "    ('Random Forest', RandomForestClassifier(random_state=42)),\n",
    "    ('Gradient Boosting', GradientBoostingClassifier(random_state=42)),\n",
    "    ('Support Vector Machine', SVC(random_state=42)),\n",
    "    ('Gaussian Naive Bayes', GaussianNB()),\n",
    "    ('K-Nearest Neighbors', KNeighborsClassifier()),\n",
    "    ('Decision Tree', DecisionTreeClassifier(random_state=42)),\n",
    "    ('XGBoost', XGBClassifier(random_state=42)),\n",
    "    ('LightGBM', LGBMClassifier(random_state=42)),\n",
    "]\n",
    "\n",
    "# Initializing an empty list to store the model results\n",
    "results_list = []\n",
    "\n",
    "# Iterate over the models and train, evaluate, and store the results\n",
    "for model_name, model in models:\n",
    "    # Fitting the models to the training dataset\n",
    "    model.fit(X_train_scaled, y_train)\n",
    "\n",
    "    # Make predictions using the evaluation dataset\n",
    "    y_pred = model.predict(X_eval_scaled)\n",
    "\n",
    "    # Calculate performance metrics\n",
    "    accuracy = accuracy_score(y_eval, y_pred)\n",
    "    precision = precision_score(y_eval, y_pred)\n",
    "    recall = recall_score(y_eval, y_pred)\n",
    "    f1 = f1_score(y_eval, y_pred)\n",
    "    auc_roc = roc_auc_score(y_eval, y_pred)\n",
    "\n",
    "    # Store the results in a dictionary\n",
    "    model_results = {\n",
    "        'Model': model_name,\n",
    "        'Accuracy': accuracy,\n",
    "        'Precision': precision,\n",
    "        'Recall': recall,\n",
    "        'F1 Score': f1,\n",
    "        'AUC-ROC': auc_roc\n",
    "    }\n",
    "\n",
    "    # Append the model results to the list\n",
    "    results_list.append(model_results)\n",
    "\n",
    "# Convert the list of dictionaries to a DataFrame\n",
    "results_df = pd.DataFrame(results_list)\n"
   ]
  },
  {
   "cell_type": "code",
   "execution_count": 62,
   "metadata": {},
   "outputs": [
    {
     "data": {
      "text/html": [
       "<div>\n",
       "<style scoped>\n",
       "    .dataframe tbody tr th:only-of-type {\n",
       "        vertical-align: middle;\n",
       "    }\n",
       "\n",
       "    .dataframe tbody tr th {\n",
       "        vertical-align: top;\n",
       "    }\n",
       "\n",
       "    .dataframe thead th {\n",
       "        text-align: right;\n",
       "    }\n",
       "</style>\n",
       "<table border=\"1\" class=\"dataframe\">\n",
       "  <thead>\n",
       "    <tr style=\"text-align: right;\">\n",
       "      <th></th>\n",
       "      <th>Model</th>\n",
       "      <th>Accuracy</th>\n",
       "      <th>Precision</th>\n",
       "      <th>Recall</th>\n",
       "      <th>F1 Score</th>\n",
       "      <th>AUC-ROC</th>\n",
       "    </tr>\n",
       "  </thead>\n",
       "  <tbody>\n",
       "    <tr>\n",
       "      <th>0</th>\n",
       "      <td>Logistic Regression</td>\n",
       "      <td>0.719745</td>\n",
       "      <td>0.717949</td>\n",
       "      <td>0.717949</td>\n",
       "      <td>0.717949</td>\n",
       "      <td>0.719734</td>\n",
       "    </tr>\n",
       "    <tr>\n",
       "      <th>1</th>\n",
       "      <td>Random Forest</td>\n",
       "      <td>0.808917</td>\n",
       "      <td>0.772727</td>\n",
       "      <td>0.871795</td>\n",
       "      <td>0.819277</td>\n",
       "      <td>0.809315</td>\n",
       "    </tr>\n",
       "    <tr>\n",
       "      <th>2</th>\n",
       "      <td>Gradient Boosting</td>\n",
       "      <td>0.738854</td>\n",
       "      <td>0.712644</td>\n",
       "      <td>0.794872</td>\n",
       "      <td>0.751515</td>\n",
       "      <td>0.739208</td>\n",
       "    </tr>\n",
       "    <tr>\n",
       "      <th>3</th>\n",
       "      <td>Support Vector Machine</td>\n",
       "      <td>0.764331</td>\n",
       "      <td>0.741176</td>\n",
       "      <td>0.807692</td>\n",
       "      <td>0.773006</td>\n",
       "      <td>0.764606</td>\n",
       "    </tr>\n",
       "    <tr>\n",
       "      <th>4</th>\n",
       "      <td>Gaussian Naive Bayes</td>\n",
       "      <td>0.694268</td>\n",
       "      <td>0.697368</td>\n",
       "      <td>0.679487</td>\n",
       "      <td>0.688312</td>\n",
       "      <td>0.694174</td>\n",
       "    </tr>\n",
       "    <tr>\n",
       "      <th>5</th>\n",
       "      <td>K-Nearest Neighbors</td>\n",
       "      <td>0.681529</td>\n",
       "      <td>0.662791</td>\n",
       "      <td>0.730769</td>\n",
       "      <td>0.695122</td>\n",
       "      <td>0.681840</td>\n",
       "    </tr>\n",
       "    <tr>\n",
       "      <th>6</th>\n",
       "      <td>Decision Tree</td>\n",
       "      <td>0.745223</td>\n",
       "      <td>0.743590</td>\n",
       "      <td>0.743590</td>\n",
       "      <td>0.743590</td>\n",
       "      <td>0.745213</td>\n",
       "    </tr>\n",
       "    <tr>\n",
       "      <th>7</th>\n",
       "      <td>XGBoost</td>\n",
       "      <td>0.783439</td>\n",
       "      <td>0.755814</td>\n",
       "      <td>0.833333</td>\n",
       "      <td>0.792683</td>\n",
       "      <td>0.783755</td>\n",
       "    </tr>\n",
       "    <tr>\n",
       "      <th>8</th>\n",
       "      <td>LightGBM</td>\n",
       "      <td>0.770701</td>\n",
       "      <td>0.738636</td>\n",
       "      <td>0.833333</td>\n",
       "      <td>0.783133</td>\n",
       "      <td>0.771097</td>\n",
       "    </tr>\n",
       "  </tbody>\n",
       "</table>\n",
       "</div>"
      ],
      "text/plain": [
       "                    Model  Accuracy  Precision    Recall  F1 Score   AUC-ROC\n",
       "0     Logistic Regression  0.719745   0.717949  0.717949  0.717949  0.719734\n",
       "1           Random Forest  0.808917   0.772727  0.871795  0.819277  0.809315\n",
       "2       Gradient Boosting  0.738854   0.712644  0.794872  0.751515  0.739208\n",
       "3  Support Vector Machine  0.764331   0.741176  0.807692  0.773006  0.764606\n",
       "4    Gaussian Naive Bayes  0.694268   0.697368  0.679487  0.688312  0.694174\n",
       "5     K-Nearest Neighbors  0.681529   0.662791  0.730769  0.695122  0.681840\n",
       "6           Decision Tree  0.745223   0.743590  0.743590  0.743590  0.745213\n",
       "7                 XGBoost  0.783439   0.755814  0.833333  0.792683  0.783755\n",
       "8                LightGBM  0.770701   0.738636  0.833333  0.783133  0.771097"
      ]
     },
     "execution_count": 62,
     "metadata": {},
     "output_type": "execute_result"
    }
   ],
   "source": [
    "results_df"
   ]
  },
  {
   "cell_type": "markdown",
   "metadata": {},
   "source": [
    "## Hyperparameter Tuning"
   ]
  },
  {
   "cell_type": "code",
   "execution_count": 63,
   "metadata": {},
   "outputs": [
    {
     "data": {
      "text/plain": [
       "{'bootstrap': True,\n",
       " 'ccp_alpha': 0.0,\n",
       " 'class_weight': None,\n",
       " 'criterion': 'gini',\n",
       " 'max_depth': None,\n",
       " 'max_features': 'sqrt',\n",
       " 'max_leaf_nodes': None,\n",
       " 'max_samples': None,\n",
       " 'min_impurity_decrease': 0.0,\n",
       " 'min_samples_leaf': 1,\n",
       " 'min_samples_split': 2,\n",
       " 'min_weight_fraction_leaf': 0.0,\n",
       " 'n_estimators': 100,\n",
       " 'n_jobs': None,\n",
       " 'oob_score': False,\n",
       " 'random_state': None,\n",
       " 'verbose': 0,\n",
       " 'warm_start': False}"
      ]
     },
     "execution_count": 63,
     "metadata": {},
     "output_type": "execute_result"
    }
   ],
   "source": [
    "# Hyperparameters Fine-tuning (Scikit-learn hp search, cross-validation, etc. )\n",
    "RandomForestClassifier().get_params()"
   ]
  },
  {
   "cell_type": "code",
   "execution_count": 64,
   "metadata": {},
   "outputs": [],
   "source": [
    "# Defining the parameter grid for Random Forest m\n",
    "param_grid_rf = {\n",
    "    'n_estimators': [100, 200, 300],\n",
    "    'max_depth': [None, 10, 20],\n",
    "    'min_samples_split': [2, 5,10],\n",
    "    'min_samples_leaf': [1, 2,4]\n",
    "}"
   ]
  },
  {
   "cell_type": "code",
   "execution_count": 65,
   "metadata": {},
   "outputs": [],
   "source": [
    "# Defining a random forest model\n",
    "rf = RandomForestClassifier(random_state=42)\n",
    "#Perfoming a grid search using cross validation\n",
    "grid_search_rf = GridSearchCV(rf, param_grid_rf, scoring='f1', cv=5)\n",
    "grid_search_rf.fit(X_train_scaled, y_train)"
   ]
  },
  {
   "cell_type": "code",
   "execution_count": null,
   "metadata": {},
   "outputs": [],
   "source": [
    "# Getting the best parameters\n",
    "best_params_rf = grid_search_rf.best_params_\n",
    "best_score_rf = grid_search_rf.best_score_"
   ]
  },
  {
   "cell_type": "code",
   "execution_count": null,
   "metadata": {},
   "outputs": [
    {
     "name": "stdout",
     "output_type": "stream",
     "text": [
      "The best hyperparameters for the Random Forest model are:\n",
      "{'max_depth': 10, 'min_samples_leaf': 2, 'min_samples_split': 10, 'n_estimators': 100}\n"
     ]
    }
   ],
   "source": [
    "#Displaying the best parameters\n",
    "print(f\"The best hyperparameters for the Random Forest model are:\\n{best_params_rf}\")"
   ]
  },
  {
   "cell_type": "code",
   "execution_count": null,
   "metadata": {},
   "outputs": [],
   "source": [
    "# Define the models with the best hyperparameters\n",
    "rf_model_tuned = RandomForestClassifier(n_estimators=300, max_depth=10, min_samples_split=2, min_samples_leaf=1, random_state=42)\n"
   ]
  },
  {
   "cell_type": "code",
   "execution_count": null,
   "metadata": {},
   "outputs": [
    {
     "data": {
      "text/html": [
       "<style>#sk-container-id-5 {color: black;}#sk-container-id-5 pre{padding: 0;}#sk-container-id-5 div.sk-toggleable {background-color: white;}#sk-container-id-5 label.sk-toggleable__label {cursor: pointer;display: block;width: 100%;margin-bottom: 0;padding: 0.3em;box-sizing: border-box;text-align: center;}#sk-container-id-5 label.sk-toggleable__label-arrow:before {content: \"▸\";float: left;margin-right: 0.25em;color: #696969;}#sk-container-id-5 label.sk-toggleable__label-arrow:hover:before {color: black;}#sk-container-id-5 div.sk-estimator:hover label.sk-toggleable__label-arrow:before {color: black;}#sk-container-id-5 div.sk-toggleable__content {max-height: 0;max-width: 0;overflow: hidden;text-align: left;background-color: #f0f8ff;}#sk-container-id-5 div.sk-toggleable__content pre {margin: 0.2em;color: black;border-radius: 0.25em;background-color: #f0f8ff;}#sk-container-id-5 input.sk-toggleable__control:checked~div.sk-toggleable__content {max-height: 200px;max-width: 100%;overflow: auto;}#sk-container-id-5 input.sk-toggleable__control:checked~label.sk-toggleable__label-arrow:before {content: \"▾\";}#sk-container-id-5 div.sk-estimator input.sk-toggleable__control:checked~label.sk-toggleable__label {background-color: #d4ebff;}#sk-container-id-5 div.sk-label input.sk-toggleable__control:checked~label.sk-toggleable__label {background-color: #d4ebff;}#sk-container-id-5 input.sk-hidden--visually {border: 0;clip: rect(1px 1px 1px 1px);clip: rect(1px, 1px, 1px, 1px);height: 1px;margin: -1px;overflow: hidden;padding: 0;position: absolute;width: 1px;}#sk-container-id-5 div.sk-estimator {font-family: monospace;background-color: #f0f8ff;border: 1px dotted black;border-radius: 0.25em;box-sizing: border-box;margin-bottom: 0.5em;}#sk-container-id-5 div.sk-estimator:hover {background-color: #d4ebff;}#sk-container-id-5 div.sk-parallel-item::after {content: \"\";width: 100%;border-bottom: 1px solid gray;flex-grow: 1;}#sk-container-id-5 div.sk-label:hover label.sk-toggleable__label {background-color: #d4ebff;}#sk-container-id-5 div.sk-serial::before {content: \"\";position: absolute;border-left: 1px solid gray;box-sizing: border-box;top: 0;bottom: 0;left: 50%;z-index: 0;}#sk-container-id-5 div.sk-serial {display: flex;flex-direction: column;align-items: center;background-color: white;padding-right: 0.2em;padding-left: 0.2em;position: relative;}#sk-container-id-5 div.sk-item {position: relative;z-index: 1;}#sk-container-id-5 div.sk-parallel {display: flex;align-items: stretch;justify-content: center;background-color: white;position: relative;}#sk-container-id-5 div.sk-item::before, #sk-container-id-5 div.sk-parallel-item::before {content: \"\";position: absolute;border-left: 1px solid gray;box-sizing: border-box;top: 0;bottom: 0;left: 50%;z-index: -1;}#sk-container-id-5 div.sk-parallel-item {display: flex;flex-direction: column;z-index: 1;position: relative;background-color: white;}#sk-container-id-5 div.sk-parallel-item:first-child::after {align-self: flex-end;width: 50%;}#sk-container-id-5 div.sk-parallel-item:last-child::after {align-self: flex-start;width: 50%;}#sk-container-id-5 div.sk-parallel-item:only-child::after {width: 0;}#sk-container-id-5 div.sk-dashed-wrapped {border: 1px dashed gray;margin: 0 0.4em 0.5em 0.4em;box-sizing: border-box;padding-bottom: 0.4em;background-color: white;}#sk-container-id-5 div.sk-label label {font-family: monospace;font-weight: bold;display: inline-block;line-height: 1.2em;}#sk-container-id-5 div.sk-label-container {text-align: center;}#sk-container-id-5 div.sk-container {/* jupyter's `normalize.less` sets `[hidden] { display: none; }` but bootstrap.min.css set `[hidden] { display: none !important; }` so we also need the `!important` here to be able to override the default hidden behavior on the sphinx rendered scikit-learn.org. See: https://github.com/scikit-learn/scikit-learn/issues/21755 */display: inline-block !important;position: relative;}#sk-container-id-5 div.sk-text-repr-fallback {display: none;}</style><div id=\"sk-container-id-5\" class=\"sk-top-container\"><div class=\"sk-text-repr-fallback\"><pre>RandomForestClassifier(max_depth=10, n_estimators=300, random_state=42)</pre><b>In a Jupyter environment, please rerun this cell to show the HTML representation or trust the notebook. <br />On GitHub, the HTML representation is unable to render, please try loading this page with nbviewer.org.</b></div><div class=\"sk-container\" hidden><div class=\"sk-item\"><div class=\"sk-estimator sk-toggleable\"><input class=\"sk-toggleable__control sk-hidden--visually\" id=\"sk-estimator-id-9\" type=\"checkbox\" checked><label for=\"sk-estimator-id-9\" class=\"sk-toggleable__label sk-toggleable__label-arrow\">RandomForestClassifier</label><div class=\"sk-toggleable__content\"><pre>RandomForestClassifier(max_depth=10, n_estimators=300, random_state=42)</pre></div></div></div></div></div>"
      ],
      "text/plain": [
       "RandomForestClassifier(max_depth=10, n_estimators=300, random_state=42)"
      ]
     },
     "execution_count": 91,
     "metadata": {},
     "output_type": "execute_result"
    }
   ],
   "source": [
    "# Fit the models to the training data\n",
    "rf_model_tuned.fit(X_train_scaled, y_train)"
   ]
  },
  {
   "cell_type": "code",
   "execution_count": null,
   "metadata": {},
   "outputs": [],
   "source": [
    "# Make predictions on the evaluation data\n",
    "y_pred_rf = rf_model_tuned.predict(X_eval_scaled)"
   ]
  },
  {
   "cell_type": "code",
   "execution_count": null,
   "metadata": {},
   "outputs": [],
   "source": [
    "# Calculate the evaluation scores\n",
    "accuracy_rf = accuracy_score(y_eval, y_pred_rf)\n",
    "precision_rf = precision_score(y_eval, y_pred_rf)\n",
    "recall_rf = recall_score(y_eval, y_pred_rf)\n",
    "f1_rf = f1_score(y_eval, y_pred_rf)\n",
    "auc_roc_rf = roc_auc_score(y_eval, y_pred_rf)"
   ]
  },
  {
   "cell_type": "code",
   "execution_count": null,
   "metadata": {},
   "outputs": [
    {
     "ename": "NameError",
     "evalue": "name 'label_encoder' is not defined",
     "output_type": "error",
     "traceback": [
      "\u001b[1;31m---------------------------------------------------------------------------\u001b[0m",
      "\u001b[1;31mNameError\u001b[0m                                 Traceback (most recent call last)",
      "Cell \u001b[1;32mIn[1], line 2\u001b[0m\n\u001b[0;32m      1\u001b[0m components \u001b[38;5;241m=\u001b[39m {\n\u001b[1;32m----> 2\u001b[0m     \u001b[38;5;124m'\u001b[39m\u001b[38;5;124mlabel_encoder\u001b[39m\u001b[38;5;124m'\u001b[39m: \u001b[43mlabel_encoder\u001b[49m,\n\u001b[0;32m      3\u001b[0m     \u001b[38;5;124m'\u001b[39m\u001b[38;5;124mscaler\u001b[39m\u001b[38;5;124m'\u001b[39m: scaler,\n\u001b[0;32m      4\u001b[0m     \u001b[38;5;124m'\u001b[39m\u001b[38;5;124mimbalance\u001b[39m\u001b[38;5;124m'\u001b[39m: smote,\n\u001b[0;32m      5\u001b[0m     \u001b[38;5;124m'\u001b[39m\u001b[38;5;124mgrid_search_rfc\u001b[39m\u001b[38;5;124m'\u001b[39m:grid_search_rf,\n\u001b[0;32m      6\u001b[0m     \u001b[38;5;124m'\u001b[39m\u001b[38;5;124mmodel\u001b[39m\u001b[38;5;124m'\u001b[39m: rf_model_tuned\n\u001b[0;32m      7\u001b[0m }\n",
      "\u001b[1;31mNameError\u001b[0m: name 'label_encoder' is not defined"
     ]
    }
   ],
   "source": [
    "components = {\n",
    "    'label_encoder': label_encoder,\n",
    "    'scaler': scaler,\n",
    "    'imbalance': smote,\n",
    "    'grid_search_rfc':grid_search_rf,\n",
    "    'model': rf_model_tuned\n",
    "}"
   ]
  }
 ],
 "metadata": {
  "kernelspec": {
   "display_name": "Python 3",
   "language": "python",
   "name": "python3"
  },
  "language_info": {
   "codemirror_mode": {
    "name": "ipython",
    "version": 3
   },
   "file_extension": ".py",
   "mimetype": "text/x-python",
   "name": "python",
   "nbconvert_exporter": "python",
   "pygments_lexer": "ipython3",
   "version": "3.11.3"
  }
 },
 "nbformat": 4,
 "nbformat_minor": 2
}
